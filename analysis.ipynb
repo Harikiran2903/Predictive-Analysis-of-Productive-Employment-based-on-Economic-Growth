{
 "cells": [
  {
   "cell_type": "code",
   "execution_count": 1,
   "metadata": {},
   "outputs": [],
   "source": [
    "import pandas as pd\n",
    "import numpy as np\n",
    "import matplotlib.pyplot as plt\n",
    "import seaborn as sns"
   ]
  },
  {
   "cell_type": "markdown",
   "metadata": {},
   "source": [
    "## Workflow of Project\n",
    "This project utilizes the Data Science Project Life Cycle, which has the following steps:\n",
    "\n",
    "1. Business Understanding\n",
    "2. Data Collection\n",
    "3. Data Preparation\n",
    "4. Exploratory Data Analysis\n",
    "5. Modelling\n",
    "6. Model Evaluation\n",
    "7. Model Deployment"
   ]
  },
  {
   "cell_type": "markdown",
   "metadata": {},
   "source": [
    "# Part 1: Business Understanding"
   ]
  },
  {
   "cell_type": "markdown",
   "metadata": {},
   "source": [
    "### Introduction to concepts of Economic Growth and Productive Employment\n",
    "\n",
    "* Gross Domestic Product(GDP) as a measure of Economic Growth\n",
    "> * GDP = value of goods and services produced by the nations economy - value of goods and services used up in production\n",
    "> * Two measures of GDP will be used in this study, the Contribution_by_GDP and Growth_by_GDP\n",
    "\n",
    "* Productive Employment\n",
    "> * Productive Employment is employment yielding sufficient returns to labour, to permit a worker and his/her dependents a level of consumption above the poverty line\n",
    "> * The International Labour Organization (ILO) has set the International Poverty Line to USD 2 (USD 1.90) a day; hence any person earning below USD 2 a day is considered poor, a group the ILO refers to as the 'Working Poor'\n",
    "> * The working poor in this case will be the people earning below KSh 10,000 a month (Wage_bracket_0_to_9999)"
   ]
  },
  {
   "cell_type": "markdown",
   "metadata": {},
   "source": [
    "### --------------------------------------------------- End of Business Understanding Section (Part 1)----------------------------------------"
   ]
  },
  {
   "cell_type": "code",
   "execution_count": null,
   "metadata": {},
   "outputs": [],
   "source": []
  }
 ],
 "metadata": {
  "kernelspec": {
   "display_name": "Python 3",
   "language": "python",
   "name": "python3"
  },
  "language_info": {
   "codemirror_mode": {
    "name": "ipython",
    "version": 3
   },
   "file_extension": ".py",
   "mimetype": "text/x-python",
   "name": "python",
   "nbconvert_exporter": "python",
   "pygments_lexer": "ipython3",
   "version": "3.12.0"
  }
 },
 "nbformat": 4,
 "nbformat_minor": 2
}
