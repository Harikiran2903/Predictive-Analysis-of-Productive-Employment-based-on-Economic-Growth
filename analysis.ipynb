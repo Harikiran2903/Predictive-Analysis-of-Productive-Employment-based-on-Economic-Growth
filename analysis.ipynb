{
 "cells": [
  {
   "cell_type": "code",
   "execution_count": 2,
   "metadata": {},
   "outputs": [],
   "source": [
    "import pandas as pd\n",
    "import numpy as np\n",
    "import matplotlib.pyplot as plt\n",
    "import seaborn as sns"
   ]
  },
  {
   "cell_type": "markdown",
   "metadata": {},
   "source": [
    "## Workflow of Project\n",
    "This project utilizes the Data Science Project Life Cycle, which has the following steps:\n",
    "\n",
    "1. Business Understanding\n",
    "2. Data Collection\n",
    "3. Data Preparation\n",
    "4. Exploratory Data Analysis\n",
    "5. Modelling\n",
    "6. Model Evaluation\n",
    "7. Model Deployment"
   ]
  },
  {
   "cell_type": "markdown",
   "metadata": {},
   "source": [
    "# Part 1: Business Understanding"
   ]
  },
  {
   "cell_type": "markdown",
   "metadata": {},
   "source": [
    "### Introduction to concepts of Economic Growth and Productive Employment\n",
    "\n",
    "* Gross Domestic Product(GDP) as a measure of Economic Growth\n",
    "> * GDP = value of goods and services produced by the nations economy - value of goods and services used up in production\n",
    "> * Two measures of GDP will be used in this study, the Contribution_by_GDP and Growth_by_GDP\n",
    "\n",
    "* Productive Employment\n",
    "> * Productive Employment is employment yielding sufficient returns to labour, to permit a worker and his/her dependents a level of consumption above the poverty line\n",
    "> * The International Labour Organization (ILO) has set the International Poverty Line to USD 2 (USD 1.90) a day; hence any person earning below USD 2 a day is considered poor, a group the ILO refers to as the 'Working Poor'\n",
    "> * The working poor in this case will be the people earning below KSh 10,000 a month (Wage_bracket_0_to_9999)"
   ]
  },
  {
   "cell_type": "markdown",
   "metadata": {},
   "source": [
    "### --------------------------------------------------- End of Business Understanding Section (Part 1)----------------------------------------"
   ]
  },
  {
   "cell_type": "markdown",
   "metadata": {},
   "source": [
    "# Part 2: Data Collection\n",
    "\n",
    "---\n",
    "\n",
    "\n",
    "\n",
    "---\n",
    "\n",
    "\n",
    "\n",
    "---\n",
    "\n",
    "\n",
    "### Perform Data Extraction from PDF Files using camelot-py Module"
   ]
  },
  {
   "cell_type": "markdown",
   "metadata": {},
   "source": [
    "### Prerequisites\n",
    "\n",
    "\n",
    "* Installing dependecies for camelot-py, which include GhostScript and TKinter, on local machine\n",
    "* Installing camelot-py module\n",
    "* Testing camelot-py module\n",
    "* Downloading yearly Statistical Abstract files from Kenya National Bureau of Statitics (KNBS)"
   ]
  },
  {
   "cell_type": "markdown",
   "metadata": {},
   "source": [
    "#### Sources of data (PDF files, courtesy of KNBS)\n",
    "\n",
    "\n",
    "* Statistical Abstract 2013\n",
    "* Statistical Abstract 2014\n",
    "* Statistical Abstract 2015\n",
    "* Statistical Abstract 2017\n",
    "* Statistical Abstract 2019"
   ]
  },
  {
   "cell_type": "markdown",
   "metadata": {},
   "source": [
    "To extract data from the pdf files, I connect to local runtime, which has camelot-py module installed; to use the module for extraction"
   ]
  },
  {
   "cell_type": "markdown",
   "metadata": {},
   "source": [
    "### Workflow\n",
    "1. Set up notebook server to allow connection to local runtime; using the command provided in the next section\n",
    "2. Look up for desired tables in pdf files, noting page numbers\n",
    "3. Extract tables from the pdf files using the page numbers\n",
    "4. Export tables to csv files, which will then be used in the data preparation section"
   ]
  },
  {
   "cell_type": "markdown",
   "metadata": {},
   "source": [
    "#### Command for starting notebook server\n",
    "\n",
    "jupyter notebook in command prompt or in terminal\n",
    "\n",
    "import camelot module"
   ]
  },
  {
   "cell_type": "code",
   "execution_count": 3,
   "metadata": {},
   "outputs": [],
   "source": [
    "import camelot"
   ]
  },
  {
   "cell_type": "markdown",
   "metadata": {},
   "source": [
    "### Extracting tables from the given datasets"
   ]
  },
  {
   "cell_type": "markdown",
   "metadata": {},
   "source": [
    "Statistical Abstract 2013"
   ]
  },
  {
   "cell_type": "code",
   "execution_count": 4,
   "metadata": {},
   "outputs": [
    {
     "name": "stdout",
     "output_type": "stream",
     "text": [
      "Number of tables: 1\n",
      "PARSING REPORT\n",
      "{'accuracy': 95.47, 'whitespace': 11.79, 'order': 1, 'page': 285}\n"
     ]
    }
   ],
   "source": [
    "# Statistical Abstract 2013\n",
    "pathPdf = 'D:/Hackathon/Hackathon (16) - Python Project/Hackathon (16) - Python Project/PDFs/PDFs/STATISTICAL ABSTRACT 2013.pdf'\n",
    "pathDataset = \"D:/Hackathon/Hackathon (16) - Python Project/Hackathon (16) - Python Project/CSV FILES/\"\n",
    "tables = camelot.read_pdf(pathPdf, pages='285', flavor='stream', strip_text='*+')\n",
    "\n",
    "numOfTables=tables.n\n",
    "print('Number of tables: ' + str(numOfTables))\n",
    "\n",
    "#Parsing Report\n",
    "print('PARSING REPORT')\n",
    "print(tables[0].parsing_report)"
   ]
  },
  {
   "cell_type": "code",
   "execution_count": 5,
   "metadata": {},
   "outputs": [],
   "source": [
    "#saving table from pdf to csv\n",
    "tables[0].to_csv(pathDataset + '/Wage Employment 2011.csv')"
   ]
  },
  {
   "cell_type": "markdown",
   "metadata": {},
   "source": [
    "Statistical Abstract 2014"
   ]
  },
  {
   "cell_type": "code",
   "execution_count": 6,
   "metadata": {},
   "outputs": [
    {
     "name": "stdout",
     "output_type": "stream",
     "text": [
      "Number of tables: 6\n",
      "PARSING REPORT\n",
      "{'accuracy': 99.36, 'whitespace': 8.12, 'order': 1, 'page': 74}\n",
      "{'accuracy': 99.63, 'whitespace': 10.68, 'order': 1, 'page': 77}\n",
      "{'accuracy': 91.57, 'whitespace': 31.06, 'order': 1, 'page': 265}\n",
      "{'accuracy': 97.76, 'whitespace': 14.48, 'order': 1, 'page': 266}\n",
      "{'accuracy': 99.17, 'whitespace': 14.48, 'order': 1, 'page': 267}\n",
      "{'accuracy': 99.65, 'whitespace': 18.93, 'order': 1, 'page': 268}\n"
     ]
    }
   ],
   "source": [
    "pathpdf = \"D:/Hackathon/Hackathon (16) - Python Project/Hackathon (16) - Python Project/PDFs/PDFs/STATISTICAL ABSTRACT 2014.pdf\"\n",
    "tables = camelot.read_pdf(pathpdf,pages = \"74,77,265,266,267,268\", flavor=\"stream\", strip_text =\"*+\\n\" )\n",
    "\n",
    "nOfTables = tables.n\n",
    "print(\"Number of tables: \" + str(nOfTables))\n",
    "\n",
    "#parsing Report\n",
    "print(\"PARSING REPORT\")\n",
    "\n",
    "for i in range(nOfTables):\n",
    "    print(tables[i].parsing_report)"
   ]
  },
  {
   "cell_type": "code",
   "execution_count": 7,
   "metadata": {},
   "outputs": [],
   "source": [
    "#Exporting Tables to CSV Files\n",
    "tables[0].to_csv(pathDataset + '/Contribution to GDP by Percent 2009-2013.csv')\n",
    "tables[1].to_csv(pathDataset + '/Growth  of GDP by Activity 2009-2013.csv')\n",
    "tables[2].to_csv(pathDataset + '/Wage Employment 2010-2013.csv')\n",
    "tables[3].to_csv(pathDataset + '/Wage Employment 2012.csv')\n",
    "tables[4].to_csv(pathDataset + '/Wage Employment 2013.csv')\n",
    "tables[5].to_csv(pathDataset + '/Wage Employment by Sex and Income 2010-2013.csv')"
   ]
  },
  {
   "cell_type": "markdown",
   "metadata": {},
   "source": []
  },
  {
   "cell_type": "markdown",
   "metadata": {},
   "source": [
    "Statistical Abstract 2017"
   ]
  },
  {
   "cell_type": "code",
   "execution_count": 8,
   "metadata": {},
   "outputs": [
    {
     "name": "stdout",
     "output_type": "stream",
     "text": [
      "Number of tables: 4\n",
      "PARSING REPORT\n",
      "{'accuracy': 92.98, 'whitespace': 24.84, 'order': 1, 'page': 101}\n",
      "{'accuracy': 99.79, 'whitespace': 25.0, 'order': 2, 'page': 101}\n",
      "{'accuracy': 92.98, 'whitespace': 24.84, 'order': 1, 'page': 102}\n",
      "{'accuracy': 99.79, 'whitespace': 25.0, 'order': 2, 'page': 102}\n"
     ]
    }
   ],
   "source": [
    "# Statistical Abstract 2017\n",
    "pathPdf = 'D:/Hackathon/Hackathon (16) - Python Project/Hackathon (16) - Python Project/PDFs/PDFs/STATISTICAL ABSTRACT 2017.pdf'\n",
    "tables = camelot.read_pdf(pathPdf, pages='101,102', flavor='stream', strip_text='*+\\n')\n",
    "\n",
    "numOfTables=tables.n\n",
    "print('Number of tables: ' + str(numOfTables))\n",
    "\n",
    "#Parsing Report\n",
    "print('PARSING REPORT')\n",
    "i=0\n",
    "while i < numOfTables:\n",
    "    print(tables[i].parsing_report)\n",
    "    i+=1"
   ]
  },
  {
   "cell_type": "code",
   "execution_count": 9,
   "metadata": {},
   "outputs": [],
   "source": [
    "tables[1].to_csv(pathDataset + '/Wage Employment 2015.csv')\n",
    "tables[3].to_csv(pathDataset + '/Wage Employment 2016.csv')"
   ]
  },
  {
   "cell_type": "markdown",
   "metadata": {},
   "source": [
    "Statistical Abstract 2019"
   ]
  },
  {
   "cell_type": "code",
   "execution_count": 10,
   "metadata": {},
   "outputs": [
    {
     "name": "stdout",
     "output_type": "stream",
     "text": [
      "Number of tables: 6\n",
      "PARSING REPORT\n",
      "{'accuracy': 99.55, 'whitespace': 9.21, 'order': 1, 'page': 30}\n",
      "{'accuracy': 99.62, 'whitespace': 8.97, 'order': 1, 'page': 32}\n",
      "{'accuracy': 88.77, 'whitespace': 29.29, 'order': 1, 'page': 63}\n",
      "{'accuracy': 99.94, 'whitespace': 22.76, 'order': 1, 'page': 64}\n",
      "{'accuracy': 99.95, 'whitespace': 22.67, 'order': 1, 'page': 65}\n",
      "{'accuracy': 99.44, 'whitespace': 19.71, 'order': 1, 'page': 66}\n"
     ]
    }
   ],
   "source": [
    "# Statistical Abstract 2019\n",
    "pathPdf = 'D:/Hackathon/Hackathon (16) - Python Project/Hackathon (16) - Python Project/PDFs/PDFs/Statistical Abstract 2019.pdf'\n",
    "tables = camelot.read_pdf(pathPdf, pages='30,32,63,64,65,66', flavor='stream', strip_text='*+\\n')\n",
    "\n",
    "numOfTables=tables.n\n",
    "print('Number of tables: ' + str(numOfTables))\n",
    "\n",
    "#Parsing Report\n",
    "print('PARSING REPORT')\n",
    "i=0\n",
    "for i in range(numOfTables):\n",
    "    print(tables[i].parsing_report)"
   ]
  },
  {
   "cell_type": "code",
   "execution_count": 11,
   "metadata": {},
   "outputs": [],
   "source": [
    "#Exporting Tables to CSV Files\n",
    "tables[0].to_csv(pathDataset + '/Contribution to GDP by Percent 2012-2018.csv')\n",
    "tables[1].to_csv(pathDataset + '/Growth  of GDP by Activity 2012-2018.csv')\n",
    "tables[2].to_csv(pathDataset + '/Wage Employment 2014-2018.csv')\n",
    "tables[3].to_csv(pathDataset + '/Wage Employment 2017.csv')\n",
    "tables[4].to_csv(pathDataset + '/Wage Employment 2018.csv')\n",
    "tables[5].to_csv(pathDataset + '/Wage Employment by Sex and Income 2014-2018.csv')"
   ]
  },
  {
   "cell_type": "markdown",
   "metadata": {},
   "source": [
    "After performing data collection, we can now disconnect local runtime and switch to hosted runtime for the next sections "
   ]
  },
  {
   "cell_type": "markdown",
   "metadata": {},
   "source": [
    "### --------------------------------------------------- End of Data Collection Section (Part 2)--------------------------------------------"
   ]
  },
  {
   "cell_type": "markdown",
   "metadata": {},
   "source": [
    "# Part 3: Data Preparation\n",
    "\n",
    "---\n"
   ]
  },
  {
   "cell_type": "markdown",
   "metadata": {},
   "source": [
    "### Prerequisites\n",
    "1. Preparing datasets using Microsoft Excel\n",
    "2. Connection to hosted runtime\n",
    "3. Migrating prepared datasets from local disk to Google Drive\n",
    "4. Mounting Google Drive"
   ]
  },
  {
   "cell_type": "markdown",
   "metadata": {},
   "source": [
    "### Workflow\n",
    "\n",
    "1.   Joining yearly datasets to a single dataset spanning all the years (2011 -2018)\n",
    "2.   Data Pre-processing"
   ]
  },
  {
   "cell_type": "markdown",
   "metadata": {},
   "source": [
    "### Mounting Google Drive"
   ]
  },
  {
   "cell_type": "code",
   "execution_count": 12,
   "metadata": {},
   "outputs": [
    {
     "name": "stdout",
     "output_type": "stream",
     "text": [
      "Access denied with the following error:\n"
     ]
    },
    {
     "name": "stderr",
     "output_type": "stream",
     "text": [
      "\n",
      " \tCannot retrieve the public link of the file. You may need to change\n",
      "\tthe permission to 'Anyone with the link', or have had many accesses. \n",
      "\n",
      "You may still be able to access the file from the browser:\n",
      "\n",
      "\t https://drive.google.com/uc?id=your_file_id \n",
      "\n"
     ]
    }
   ],
   "source": [
    "import gdown\n",
    "\n",
    "# Replace 'your_file_id' with the actual file ID from your Google Drive shareable link\n",
    "file_id = 'your_file_id'\n",
    "url = f'https://drive.google.com/uc?id={file_id}'\n",
    "\n",
    "# Replace 'your_destination_path' with the path where you want to save the file\n",
    "output = 'your_destination_path'\n",
    "\n",
    "gdown.download(url, output, quiet=False)\n"
   ]
  },
  {
   "cell_type": "markdown",
   "metadata": {},
   "source": [
    "### Importing all packages needed"
   ]
  },
  {
   "cell_type": "code",
   "execution_count": 13,
   "metadata": {},
   "outputs": [],
   "source": [
    "#import libraries\n",
    "import sys \n",
    "import numpy as np # linear algebra\n",
    "from scipy.stats import randint\n",
    "import pandas as pd # data processing, CSV file I/O \n",
    "import matplotlib.pyplot as plt # this is used for the plot the graph \n",
    "import seaborn as sns # used for plot interactive graph. "
   ]
  },
  {
   "cell_type": "markdown",
   "metadata": {},
   "source": [
    "#### 3.1 Joining yearly datasets to a single dataset spanning all the years"
   ]
  },
  {
   "cell_type": "code",
   "execution_count": 14,
   "metadata": {},
   "outputs": [],
   "source": [
    "df2011 = pd.read_csv(r\"D:\\Hackathon/Hackathon (16) - Python Project/Hackathon (16) - Python Project/CSV FILES/PROJECT 1 FILES/Wage_Employment_and_GDP_2011.csv\")\n",
    "df2012 = pd.read_csv(r\"D:\\Hackathon/Hackathon (16) - Python Project/Hackathon (16) - Python Project/CSV FILES/PROJECT 1 FILES/Wage_Employment_and_GDP_2012.csv\")\n",
    "df2013 = pd.read_csv(r\"D:\\Hackathon/Hackathon (16) - Python Project/Hackathon (16) - Python Project/CSV FILES/PROJECT 1 FILES/Wage_Employment_and_GDP_2013.csv\")\n",
    "df2014 = pd.read_csv(r\"D:\\Hackathon/Hackathon (16) - Python Project/Hackathon (16) - Python Project/CSV FILES/PROJECT 1 FILES/Wage_Employment_and_GDP_2014.csv\")\n",
    "df2015 = pd.read_csv(r\"D:\\Hackathon/Hackathon (16) - Python Project/Hackathon (16) - Python Project/CSV FILES/PROJECT 1 FILES/Wage_Employment_and_GDP_2015.csv\")\n",
    "df2016 = pd.read_csv(r\"D:\\Hackathon/Hackathon (16) - Python Project/Hackathon (16) - Python Project/CSV FILES/PROJECT 1 FILES/Wage_Employment_and_GDP_2016.csv\")\n",
    "df2017 = pd.read_csv(r\"D:\\Hackathon/Hackathon (16) - Python Project/Hackathon (16) - Python Project/CSV FILES/PROJECT 1 FILES/Wage_Employment_and_GDP_2017.csv\")\n",
    "df2018 = pd.read_csv(r\"D:\\Hackathon/Hackathon (16) - Python Project/Hackathon (16) - Python Project/CSV FILES/PROJECT 1 FILES/Wage_Employment_and_GDP_2018.csv\")"
   ]
  },
  {
   "cell_type": "markdown",
   "metadata": {},
   "source": [
    "Checking shape of Yearly dataframes"
   ]
  },
  {
   "cell_type": "code",
   "execution_count": 15,
   "metadata": {},
   "outputs": [
    {
     "name": "stdout",
     "output_type": "stream",
     "text": [
      "(21, 13)\n",
      "(21, 13)\n",
      "(21, 13)\n",
      "(21, 13)\n",
      "(21, 13)\n",
      "(21, 13)\n",
      "(21, 13)\n",
      "(21, 13)\n"
     ]
    }
   ],
   "source": [
    "list_df = [df2011,df2012,df2013,df2014,df2015,df2016,df2017,df2018]\n",
    "\n",
    "for i in list_df:\n",
    "    print(i.shape)"
   ]
  },
  {
   "cell_type": "code",
   "execution_count": 16,
   "metadata": {},
   "outputs": [],
   "source": [
    "df_list = [df2011, df2012, df2013, df2014, df2015, df2016, df2017, df2018]\n",
    "df = pd.concat(df_list,ignore_index=True,sort=False)\n",
    "df.to_csv(pathDataset + 'Wage_Employment_and_GDP_2011_to_2018.csv')"
   ]
  },
  {
   "cell_type": "markdown",
   "metadata": {},
   "source": [
    "### 3.2 Data Preprocessing"
   ]
  },
  {
   "cell_type": "code",
   "execution_count": 17,
   "metadata": {},
   "outputs": [
    {
     "data": {
      "text/html": [
       "<div>\n",
       "<style scoped>\n",
       "    .dataframe tbody tr th:only-of-type {\n",
       "        vertical-align: middle;\n",
       "    }\n",
       "\n",
       "    .dataframe tbody tr th {\n",
       "        vertical-align: top;\n",
       "    }\n",
       "\n",
       "    .dataframe thead th {\n",
       "        text-align: right;\n",
       "    }\n",
       "</style>\n",
       "<table border=\"1\" class=\"dataframe\">\n",
       "  <thead>\n",
       "    <tr style=\"text-align: right;\">\n",
       "      <th></th>\n",
       "      <th>Unnamed: 0</th>\n",
       "      <th>Industry</th>\n",
       "      <th>Year</th>\n",
       "      <th>Contribution_by_Gdp</th>\n",
       "      <th>Growth_of_GDP</th>\n",
       "      <th>0 - 9,999</th>\n",
       "      <th>10,000 - 14999</th>\n",
       "      <th>15,000 - 19999</th>\n",
       "      <th>20,000 - 24999</th>\n",
       "      <th>25,000 - 29999</th>\n",
       "      <th>30,000 - 49999</th>\n",
       "      <th>50,000 - 99999</th>\n",
       "      <th>100000+</th>\n",
       "      <th>TOTAL</th>\n",
       "    </tr>\n",
       "  </thead>\n",
       "  <tbody>\n",
       "    <tr>\n",
       "      <th>0</th>\n",
       "      <td>0</td>\n",
       "      <td>Agriculture, Forestry And Fishing</td>\n",
       "      <td>2011</td>\n",
       "      <td>23.8</td>\n",
       "      <td>1.5</td>\n",
       "      <td>12,141</td>\n",
       "      <td>36,238</td>\n",
       "      <td>111,549</td>\n",
       "      <td>100,240</td>\n",
       "      <td>37,712</td>\n",
       "      <td>23,976</td>\n",
       "      <td>12,935</td>\n",
       "      <td>6,631</td>\n",
       "      <td>341,422</td>\n",
       "    </tr>\n",
       "    <tr>\n",
       "      <th>1</th>\n",
       "      <td>1</td>\n",
       "      <td>Mining And Quarrying</td>\n",
       "      <td>2011</td>\n",
       "      <td>0.7</td>\n",
       "      <td>7.1</td>\n",
       "      <td>59</td>\n",
       "      <td>101</td>\n",
       "      <td>944</td>\n",
       "      <td>1,586</td>\n",
       "      <td>1,965</td>\n",
       "      <td>2,312</td>\n",
       "      <td>1,752</td>\n",
       "      <td>13</td>\n",
       "      <td>8,732</td>\n",
       "    </tr>\n",
       "    <tr>\n",
       "      <th>2</th>\n",
       "      <td>2</td>\n",
       "      <td>Manufacturing</td>\n",
       "      <td>2011</td>\n",
       "      <td>9.6</td>\n",
       "      <td>3.4</td>\n",
       "      <td>632</td>\n",
       "      <td>1,723</td>\n",
       "      <td>17,205</td>\n",
       "      <td>50,949</td>\n",
       "      <td>54,427</td>\n",
       "      <td>76,329</td>\n",
       "      <td>70,040</td>\n",
       "      <td>5,580</td>\n",
       "      <td>276,885</td>\n",
       "    </tr>\n",
       "    <tr>\n",
       "      <th>3</th>\n",
       "      <td>3</td>\n",
       "      <td>Electricity, Gas, Steam And Air Conditioning S...</td>\n",
       "      <td>2011</td>\n",
       "      <td>0.4</td>\n",
       "      <td>-4.4</td>\n",
       "      <td>-</td>\n",
       "      <td>101</td>\n",
       "      <td>45</td>\n",
       "      <td>3,229</td>\n",
       "      <td>690</td>\n",
       "      <td>1,413</td>\n",
       "      <td>6,830</td>\n",
       "      <td>30</td>\n",
       "      <td>12,338</td>\n",
       "    </tr>\n",
       "    <tr>\n",
       "      <th>4</th>\n",
       "      <td>4</td>\n",
       "      <td>Water Supply; Sewerage, Waste Management And R...</td>\n",
       "      <td>2011</td>\n",
       "      <td>0.7</td>\n",
       "      <td>3.0</td>\n",
       "      <td>-</td>\n",
       "      <td>-</td>\n",
       "      <td>-</td>\n",
       "      <td>3,036</td>\n",
       "      <td>1,983</td>\n",
       "      <td>1,970</td>\n",
       "      <td>818</td>\n",
       "      <td>83</td>\n",
       "      <td>7,890</td>\n",
       "    </tr>\n",
       "    <tr>\n",
       "      <th>5</th>\n",
       "      <td>5</td>\n",
       "      <td>Construction</td>\n",
       "      <td>2011</td>\n",
       "      <td>4.1</td>\n",
       "      <td>4.3</td>\n",
       "      <td>-</td>\n",
       "      <td>714</td>\n",
       "      <td>2,465</td>\n",
       "      <td>17,669</td>\n",
       "      <td>16,531</td>\n",
       "      <td>35,028</td>\n",
       "      <td>32,245</td>\n",
       "      <td>2,593</td>\n",
       "      <td>107,245</td>\n",
       "    </tr>\n",
       "    <tr>\n",
       "      <th>6</th>\n",
       "      <td>6</td>\n",
       "      <td>Wholesale And Retail Trade; Repair Of Motor Ve...</td>\n",
       "      <td>2011</td>\n",
       "      <td>10.5</td>\n",
       "      <td>7.3</td>\n",
       "      <td>56</td>\n",
       "      <td>2,179</td>\n",
       "      <td>4,363</td>\n",
       "      <td>20,215</td>\n",
       "      <td>25,842</td>\n",
       "      <td>52,176</td>\n",
       "      <td>57,676</td>\n",
       "      <td>8,174</td>\n",
       "      <td>170,681</td>\n",
       "    </tr>\n",
       "    <tr>\n",
       "      <th>7</th>\n",
       "      <td>7</td>\n",
       "      <td>Transportation And Storage</td>\n",
       "      <td>2011</td>\n",
       "      <td>7.8</td>\n",
       "      <td>5.4</td>\n",
       "      <td>821</td>\n",
       "      <td>386</td>\n",
       "      <td>841</td>\n",
       "      <td>11,032</td>\n",
       "      <td>16,544</td>\n",
       "      <td>22,798</td>\n",
       "      <td>22,740</td>\n",
       "      <td>1,296</td>\n",
       "      <td>76,458</td>\n",
       "    </tr>\n",
       "    <tr>\n",
       "      <th>8</th>\n",
       "      <td>8</td>\n",
       "      <td>Accommodation And Food Service Activities</td>\n",
       "      <td>2011</td>\n",
       "      <td>1.7</td>\n",
       "      <td>4.9</td>\n",
       "      <td>318</td>\n",
       "      <td>269</td>\n",
       "      <td>1,245</td>\n",
       "      <td>9,485</td>\n",
       "      <td>12,600</td>\n",
       "      <td>27,588</td>\n",
       "      <td>17,001</td>\n",
       "      <td>2,303</td>\n",
       "      <td>70,809</td>\n",
       "    </tr>\n",
       "    <tr>\n",
       "      <th>9</th>\n",
       "      <td>9</td>\n",
       "      <td>Information And Communication</td>\n",
       "      <td>2011</td>\n",
       "      <td>2.2</td>\n",
       "      <td>4.3</td>\n",
       "      <td>48</td>\n",
       "      <td>49</td>\n",
       "      <td>105</td>\n",
       "      <td>2,684</td>\n",
       "      <td>8,438</td>\n",
       "      <td>41,299</td>\n",
       "      <td>24,220</td>\n",
       "      <td>1,389</td>\n",
       "      <td>78,232</td>\n",
       "    </tr>\n",
       "  </tbody>\n",
       "</table>\n",
       "</div>"
      ],
      "text/plain": [
       "   Unnamed: 0                                           Industry  Year  \\\n",
       "0           0                  Agriculture, Forestry And Fishing  2011   \n",
       "1           1                               Mining And Quarrying  2011   \n",
       "2           2                                      Manufacturing  2011   \n",
       "3           3  Electricity, Gas, Steam And Air Conditioning S...  2011   \n",
       "4           4  Water Supply; Sewerage, Waste Management And R...  2011   \n",
       "5           5                                       Construction  2011   \n",
       "6           6  Wholesale And Retail Trade; Repair Of Motor Ve...  2011   \n",
       "7           7                         Transportation And Storage  2011   \n",
       "8           8          Accommodation And Food Service Activities  2011   \n",
       "9           9                      Information And Communication  2011   \n",
       "\n",
       "   Contribution_by_Gdp  Growth_of_GDP 0 - 9,999 10,000 - 14999 15,000 - 19999  \\\n",
       "0                 23.8            1.5    12,141         36,238        111,549   \n",
       "1                  0.7            7.1        59            101            944   \n",
       "2                  9.6            3.4       632          1,723         17,205   \n",
       "3                  0.4           -4.4         -            101             45   \n",
       "4                  0.7            3.0         -              -              -   \n",
       "5                  4.1            4.3         -            714          2,465   \n",
       "6                 10.5            7.3        56          2,179          4,363   \n",
       "7                  7.8            5.4       821            386            841   \n",
       "8                  1.7            4.9       318            269          1,245   \n",
       "9                  2.2            4.3        48             49            105   \n",
       "\n",
       "  20,000 - 24999 25,000 - 29999 30,000 - 49999 50,000 - 99999 100000+    TOTAL  \n",
       "0        100,240         37,712         23,976         12,935   6,631  341,422  \n",
       "1          1,586          1,965          2,312          1,752      13    8,732  \n",
       "2         50,949         54,427         76,329         70,040   5,580  276,885  \n",
       "3          3,229            690          1,413          6,830      30   12,338  \n",
       "4          3,036          1,983          1,970            818      83    7,890  \n",
       "5         17,669         16,531         35,028         32,245   2,593  107,245  \n",
       "6         20,215         25,842         52,176         57,676   8,174  170,681  \n",
       "7         11,032         16,544         22,798         22,740   1,296   76,458  \n",
       "8          9,485         12,600         27,588         17,001   2,303   70,809  \n",
       "9          2,684          8,438         41,299         24,220   1,389   78,232  "
      ]
     },
     "execution_count": 17,
     "metadata": {},
     "output_type": "execute_result"
    }
   ],
   "source": [
    "df = pd.read_csv(r\"D:\\Hackathon\\Hackathon (16) - Python Project\\Hackathon (16) - Python Project\\CSV FILES\\Wage_Employment_and_GDP_2011_to_2018.csv\")\n",
    "df.head(10)"
   ]
  },
  {
   "cell_type": "code",
   "execution_count": 18,
   "metadata": {},
   "outputs": [
    {
     "data": {
      "text/plain": [
       "Index(['Unnamed: 0', 'Industry', 'Year', 'Contribution_by_Gdp',\n",
       "       'Growth_of_GDP', '0 - 9,999', '10,000 - 14999', '15,000 - 19999',\n",
       "       '20,000 - 24999', '25,000 - 29999', '30,000 - 49999', '50,000 - 99999',\n",
       "       '100000+', 'TOTAL'],\n",
       "      dtype='object')"
      ]
     },
     "execution_count": 18,
     "metadata": {},
     "output_type": "execute_result"
    }
   ],
   "source": [
    "df.columns"
   ]
  },
  {
   "cell_type": "code",
   "execution_count": 19,
   "metadata": {},
   "outputs": [],
   "source": [
    "df.drop('Unnamed: 0', axis=1, inplace=True)"
   ]
  },
  {
   "cell_type": "code",
   "execution_count": 20,
   "metadata": {},
   "outputs": [
    {
     "data": {
      "text/html": [
       "<div>\n",
       "<style scoped>\n",
       "    .dataframe tbody tr th:only-of-type {\n",
       "        vertical-align: middle;\n",
       "    }\n",
       "\n",
       "    .dataframe tbody tr th {\n",
       "        vertical-align: top;\n",
       "    }\n",
       "\n",
       "    .dataframe thead th {\n",
       "        text-align: right;\n",
       "    }\n",
       "</style>\n",
       "<table border=\"1\" class=\"dataframe\">\n",
       "  <thead>\n",
       "    <tr style=\"text-align: right;\">\n",
       "      <th></th>\n",
       "      <th>Industry</th>\n",
       "      <th>Year</th>\n",
       "      <th>Contribution_by_Gdp</th>\n",
       "      <th>Growth_of_GDP</th>\n",
       "      <th>0 - 9,999</th>\n",
       "      <th>10,000 - 14999</th>\n",
       "      <th>15,000 - 19999</th>\n",
       "      <th>20,000 - 24999</th>\n",
       "      <th>25,000 - 29999</th>\n",
       "      <th>30,000 - 49999</th>\n",
       "      <th>50,000 - 99999</th>\n",
       "      <th>100000+</th>\n",
       "      <th>TOTAL</th>\n",
       "    </tr>\n",
       "  </thead>\n",
       "  <tbody>\n",
       "    <tr>\n",
       "      <th>0</th>\n",
       "      <td>Agriculture, Forestry And Fishing</td>\n",
       "      <td>2011</td>\n",
       "      <td>23.8</td>\n",
       "      <td>1.5</td>\n",
       "      <td>12,141</td>\n",
       "      <td>36,238</td>\n",
       "      <td>111,549</td>\n",
       "      <td>100,240</td>\n",
       "      <td>37,712</td>\n",
       "      <td>23,976</td>\n",
       "      <td>12,935</td>\n",
       "      <td>6,631</td>\n",
       "      <td>341,422</td>\n",
       "    </tr>\n",
       "    <tr>\n",
       "      <th>1</th>\n",
       "      <td>Mining And Quarrying</td>\n",
       "      <td>2011</td>\n",
       "      <td>0.7</td>\n",
       "      <td>7.1</td>\n",
       "      <td>59</td>\n",
       "      <td>101</td>\n",
       "      <td>944</td>\n",
       "      <td>1,586</td>\n",
       "      <td>1,965</td>\n",
       "      <td>2,312</td>\n",
       "      <td>1,752</td>\n",
       "      <td>13</td>\n",
       "      <td>8,732</td>\n",
       "    </tr>\n",
       "    <tr>\n",
       "      <th>2</th>\n",
       "      <td>Manufacturing</td>\n",
       "      <td>2011</td>\n",
       "      <td>9.6</td>\n",
       "      <td>3.4</td>\n",
       "      <td>632</td>\n",
       "      <td>1,723</td>\n",
       "      <td>17,205</td>\n",
       "      <td>50,949</td>\n",
       "      <td>54,427</td>\n",
       "      <td>76,329</td>\n",
       "      <td>70,040</td>\n",
       "      <td>5,580</td>\n",
       "      <td>276,885</td>\n",
       "    </tr>\n",
       "    <tr>\n",
       "      <th>3</th>\n",
       "      <td>Electricity, Gas, Steam And Air Conditioning S...</td>\n",
       "      <td>2011</td>\n",
       "      <td>0.4</td>\n",
       "      <td>-4.4</td>\n",
       "      <td>-</td>\n",
       "      <td>101</td>\n",
       "      <td>45</td>\n",
       "      <td>3,229</td>\n",
       "      <td>690</td>\n",
       "      <td>1,413</td>\n",
       "      <td>6,830</td>\n",
       "      <td>30</td>\n",
       "      <td>12,338</td>\n",
       "    </tr>\n",
       "    <tr>\n",
       "      <th>4</th>\n",
       "      <td>Water Supply; Sewerage, Waste Management And R...</td>\n",
       "      <td>2011</td>\n",
       "      <td>0.7</td>\n",
       "      <td>3.0</td>\n",
       "      <td>-</td>\n",
       "      <td>-</td>\n",
       "      <td>-</td>\n",
       "      <td>3,036</td>\n",
       "      <td>1,983</td>\n",
       "      <td>1,970</td>\n",
       "      <td>818</td>\n",
       "      <td>83</td>\n",
       "      <td>7,890</td>\n",
       "    </tr>\n",
       "  </tbody>\n",
       "</table>\n",
       "</div>"
      ],
      "text/plain": [
       "                                            Industry  Year  \\\n",
       "0                  Agriculture, Forestry And Fishing  2011   \n",
       "1                               Mining And Quarrying  2011   \n",
       "2                                      Manufacturing  2011   \n",
       "3  Electricity, Gas, Steam And Air Conditioning S...  2011   \n",
       "4  Water Supply; Sewerage, Waste Management And R...  2011   \n",
       "\n",
       "   Contribution_by_Gdp  Growth_of_GDP 0 - 9,999 10,000 - 14999 15,000 - 19999  \\\n",
       "0                 23.8            1.5    12,141         36,238        111,549   \n",
       "1                  0.7            7.1        59            101            944   \n",
       "2                  9.6            3.4       632          1,723         17,205   \n",
       "3                  0.4           -4.4         -            101             45   \n",
       "4                  0.7            3.0         -              -              -   \n",
       "\n",
       "  20,000 - 24999 25,000 - 29999 30,000 - 49999 50,000 - 99999 100000+    TOTAL  \n",
       "0        100,240         37,712         23,976         12,935   6,631  341,422  \n",
       "1          1,586          1,965          2,312          1,752      13    8,732  \n",
       "2         50,949         54,427         76,329         70,040   5,580  276,885  \n",
       "3          3,229            690          1,413          6,830      30   12,338  \n",
       "4          3,036          1,983          1,970            818      83    7,890  "
      ]
     },
     "execution_count": 20,
     "metadata": {},
     "output_type": "execute_result"
    }
   ],
   "source": [
    "df.head()"
   ]
  },
  {
   "cell_type": "markdown",
   "metadata": {},
   "source": [
    "### Renaming Columns"
   ]
  },
  {
   "cell_type": "code",
   "execution_count": 21,
   "metadata": {},
   "outputs": [],
   "source": [
    "df.columns = ['Industry', 'Year', 'Contribution_to_Gdp',\n",
    "       'Growth_of_GDP', 'Wage_bracket_0_to_9999', 'Wage_bracket_10000_to_14999', 'Wage_bracket_15000_to_19999',\n",
    "       'Wage_bracket_20000_to_24999', 'Wage_bracket_25000_to_29999', 'Wage_bracket_30000_to_49999', 'Wage_bracket_50000_to_99999',\n",
    "       'Wage_bracket_100000_plus', 'TOTAL']"
   ]
  },
  {
   "cell_type": "code",
   "execution_count": 22,
   "metadata": {},
   "outputs": [
    {
     "data": {
      "text/html": [
       "<div>\n",
       "<style scoped>\n",
       "    .dataframe tbody tr th:only-of-type {\n",
       "        vertical-align: middle;\n",
       "    }\n",
       "\n",
       "    .dataframe tbody tr th {\n",
       "        vertical-align: top;\n",
       "    }\n",
       "\n",
       "    .dataframe thead th {\n",
       "        text-align: right;\n",
       "    }\n",
       "</style>\n",
       "<table border=\"1\" class=\"dataframe\">\n",
       "  <thead>\n",
       "    <tr style=\"text-align: right;\">\n",
       "      <th></th>\n",
       "      <th>Industry</th>\n",
       "      <th>Year</th>\n",
       "      <th>Contribution_to_Gdp</th>\n",
       "      <th>Growth_of_GDP</th>\n",
       "      <th>Wage_bracket_0_to_9999</th>\n",
       "      <th>Wage_bracket_10000_to_14999</th>\n",
       "      <th>Wage_bracket_15000_to_19999</th>\n",
       "      <th>Wage_bracket_20000_to_24999</th>\n",
       "      <th>Wage_bracket_25000_to_29999</th>\n",
       "      <th>Wage_bracket_30000_to_49999</th>\n",
       "      <th>Wage_bracket_50000_to_99999</th>\n",
       "      <th>Wage_bracket_100000_plus</th>\n",
       "      <th>TOTAL</th>\n",
       "    </tr>\n",
       "  </thead>\n",
       "  <tbody>\n",
       "    <tr>\n",
       "      <th>0</th>\n",
       "      <td>Agriculture, Forestry And Fishing</td>\n",
       "      <td>2011</td>\n",
       "      <td>23.8</td>\n",
       "      <td>1.5</td>\n",
       "      <td>12,141</td>\n",
       "      <td>36,238</td>\n",
       "      <td>111,549</td>\n",
       "      <td>100,240</td>\n",
       "      <td>37,712</td>\n",
       "      <td>23,976</td>\n",
       "      <td>12,935</td>\n",
       "      <td>6,631</td>\n",
       "      <td>341,422</td>\n",
       "    </tr>\n",
       "    <tr>\n",
       "      <th>1</th>\n",
       "      <td>Mining And Quarrying</td>\n",
       "      <td>2011</td>\n",
       "      <td>0.7</td>\n",
       "      <td>7.1</td>\n",
       "      <td>59</td>\n",
       "      <td>101</td>\n",
       "      <td>944</td>\n",
       "      <td>1,586</td>\n",
       "      <td>1,965</td>\n",
       "      <td>2,312</td>\n",
       "      <td>1,752</td>\n",
       "      <td>13</td>\n",
       "      <td>8,732</td>\n",
       "    </tr>\n",
       "    <tr>\n",
       "      <th>2</th>\n",
       "      <td>Manufacturing</td>\n",
       "      <td>2011</td>\n",
       "      <td>9.6</td>\n",
       "      <td>3.4</td>\n",
       "      <td>632</td>\n",
       "      <td>1,723</td>\n",
       "      <td>17,205</td>\n",
       "      <td>50,949</td>\n",
       "      <td>54,427</td>\n",
       "      <td>76,329</td>\n",
       "      <td>70,040</td>\n",
       "      <td>5,580</td>\n",
       "      <td>276,885</td>\n",
       "    </tr>\n",
       "    <tr>\n",
       "      <th>3</th>\n",
       "      <td>Electricity, Gas, Steam And Air Conditioning S...</td>\n",
       "      <td>2011</td>\n",
       "      <td>0.4</td>\n",
       "      <td>-4.4</td>\n",
       "      <td>-</td>\n",
       "      <td>101</td>\n",
       "      <td>45</td>\n",
       "      <td>3,229</td>\n",
       "      <td>690</td>\n",
       "      <td>1,413</td>\n",
       "      <td>6,830</td>\n",
       "      <td>30</td>\n",
       "      <td>12,338</td>\n",
       "    </tr>\n",
       "    <tr>\n",
       "      <th>4</th>\n",
       "      <td>Water Supply; Sewerage, Waste Management And R...</td>\n",
       "      <td>2011</td>\n",
       "      <td>0.7</td>\n",
       "      <td>3.0</td>\n",
       "      <td>-</td>\n",
       "      <td>-</td>\n",
       "      <td>-</td>\n",
       "      <td>3,036</td>\n",
       "      <td>1,983</td>\n",
       "      <td>1,970</td>\n",
       "      <td>818</td>\n",
       "      <td>83</td>\n",
       "      <td>7,890</td>\n",
       "    </tr>\n",
       "  </tbody>\n",
       "</table>\n",
       "</div>"
      ],
      "text/plain": [
       "                                            Industry  Year  \\\n",
       "0                  Agriculture, Forestry And Fishing  2011   \n",
       "1                               Mining And Quarrying  2011   \n",
       "2                                      Manufacturing  2011   \n",
       "3  Electricity, Gas, Steam And Air Conditioning S...  2011   \n",
       "4  Water Supply; Sewerage, Waste Management And R...  2011   \n",
       "\n",
       "   Contribution_to_Gdp  Growth_of_GDP Wage_bracket_0_to_9999  \\\n",
       "0                 23.8            1.5                 12,141   \n",
       "1                  0.7            7.1                     59   \n",
       "2                  9.6            3.4                    632   \n",
       "3                  0.4           -4.4                      -   \n",
       "4                  0.7            3.0                      -   \n",
       "\n",
       "  Wage_bracket_10000_to_14999 Wage_bracket_15000_to_19999  \\\n",
       "0                      36,238                     111,549   \n",
       "1                         101                         944   \n",
       "2                       1,723                      17,205   \n",
       "3                         101                          45   \n",
       "4                           -                           -   \n",
       "\n",
       "  Wage_bracket_20000_to_24999 Wage_bracket_25000_to_29999  \\\n",
       "0                     100,240                      37,712   \n",
       "1                       1,586                       1,965   \n",
       "2                      50,949                      54,427   \n",
       "3                       3,229                         690   \n",
       "4                       3,036                       1,983   \n",
       "\n",
       "  Wage_bracket_30000_to_49999 Wage_bracket_50000_to_99999  \\\n",
       "0                      23,976                      12,935   \n",
       "1                       2,312                       1,752   \n",
       "2                      76,329                      70,040   \n",
       "3                       1,413                       6,830   \n",
       "4                       1,970                         818   \n",
       "\n",
       "  Wage_bracket_100000_plus    TOTAL  \n",
       "0                    6,631  341,422  \n",
       "1                       13    8,732  \n",
       "2                    5,580  276,885  \n",
       "3                       30   12,338  \n",
       "4                       83    7,890  "
      ]
     },
     "execution_count": 22,
     "metadata": {},
     "output_type": "execute_result"
    }
   ],
   "source": [
    "df.head()"
   ]
  },
  {
   "cell_type": "code",
   "execution_count": 23,
   "metadata": {},
   "outputs": [
    {
     "data": {
      "text/plain": [
       "21"
      ]
     },
     "execution_count": 23,
     "metadata": {},
     "output_type": "execute_result"
    }
   ],
   "source": [
    "#no of unique industry columns\n",
    "df.Industry.nunique()"
   ]
  },
  {
   "cell_type": "markdown",
   "metadata": {},
   "source": [
    "There are 21 unique columns in the compiled dataset as shown by the result above, which is as expected"
   ]
  },
  {
   "cell_type": "markdown",
   "metadata": {},
   "source": [
    "#### Removing special characters from Wage_bracket columns"
   ]
  },
  {
   "cell_type": "code",
   "execution_count": 30,
   "metadata": {},
   "outputs": [],
   "source": [
    "cols = ['Wage_bracket_0_to_9999', 'Wage_bracket_10000_to_14999', 'Wage_bracket_15000_to_19999',\n",
    "       'Wage_bracket_20000_to_24999', 'Wage_bracket_25000_to_29999', 'Wage_bracket_30000_to_49999', 'Wage_bracket_50000_to_99999',\n",
    "       'Wage_bracket_100000_plus', 'TOTAL']\n",
    "\n",
    "\n",
    "#cast to string\n",
    "df[cols] = df[cols].astype(str)\n",
    "\n",
    "#Removing special characters\n",
    "df[cols] = df[cols].replace({'\\\\$': '', ',': '', '-': ''}, regex=True)\n",
    "\n",
    "#path to dataset\n",
    "path = \"D:/Hackathon/Hackathon (16) - Python Project/Hackathon (16) - Python Project/CSV FILES/\"\n",
    "df.to_csv(path + 'Wage_Employment_and_GDP_2011_to_2018_Final.csv')"
   ]
  },
  {
   "cell_type": "code",
   "execution_count": 31,
   "metadata": {},
   "outputs": [
    {
     "data": {
      "text/html": [
       "<div>\n",
       "<style scoped>\n",
       "    .dataframe tbody tr th:only-of-type {\n",
       "        vertical-align: middle;\n",
       "    }\n",
       "\n",
       "    .dataframe tbody tr th {\n",
       "        vertical-align: top;\n",
       "    }\n",
       "\n",
       "    .dataframe thead th {\n",
       "        text-align: right;\n",
       "    }\n",
       "</style>\n",
       "<table border=\"1\" class=\"dataframe\">\n",
       "  <thead>\n",
       "    <tr style=\"text-align: right;\">\n",
       "      <th></th>\n",
       "      <th>Industry</th>\n",
       "      <th>Year</th>\n",
       "      <th>Contribution_to_Gdp</th>\n",
       "      <th>Growth_of_GDP</th>\n",
       "      <th>Wage_bracket_0_to_9999</th>\n",
       "      <th>Wage_bracket_10000_to_14999</th>\n",
       "      <th>Wage_bracket_15000_to_19999</th>\n",
       "      <th>Wage_bracket_20000_to_24999</th>\n",
       "      <th>Wage_bracket_25000_to_29999</th>\n",
       "      <th>Wage_bracket_30000_to_49999</th>\n",
       "      <th>Wage_bracket_50000_to_99999</th>\n",
       "      <th>Wage_bracket_100000_plus</th>\n",
       "      <th>TOTAL</th>\n",
       "    </tr>\n",
       "  </thead>\n",
       "  <tbody>\n",
       "    <tr>\n",
       "      <th>0</th>\n",
       "      <td>Agriculture, Forestry And Fishing</td>\n",
       "      <td>2011</td>\n",
       "      <td>23.8</td>\n",
       "      <td>1.5</td>\n",
       "      <td>12141</td>\n",
       "      <td>36238</td>\n",
       "      <td>111549</td>\n",
       "      <td>100240</td>\n",
       "      <td>37712</td>\n",
       "      <td>23976</td>\n",
       "      <td>12935</td>\n",
       "      <td>6631</td>\n",
       "      <td>341422</td>\n",
       "    </tr>\n",
       "    <tr>\n",
       "      <th>1</th>\n",
       "      <td>Mining And Quarrying</td>\n",
       "      <td>2011</td>\n",
       "      <td>0.7</td>\n",
       "      <td>7.1</td>\n",
       "      <td>59</td>\n",
       "      <td>101</td>\n",
       "      <td>944</td>\n",
       "      <td>1586</td>\n",
       "      <td>1965</td>\n",
       "      <td>2312</td>\n",
       "      <td>1752</td>\n",
       "      <td>13</td>\n",
       "      <td>8732</td>\n",
       "    </tr>\n",
       "    <tr>\n",
       "      <th>2</th>\n",
       "      <td>Manufacturing</td>\n",
       "      <td>2011</td>\n",
       "      <td>9.6</td>\n",
       "      <td>3.4</td>\n",
       "      <td>632</td>\n",
       "      <td>1723</td>\n",
       "      <td>17205</td>\n",
       "      <td>50949</td>\n",
       "      <td>54427</td>\n",
       "      <td>76329</td>\n",
       "      <td>70040</td>\n",
       "      <td>5580</td>\n",
       "      <td>276885</td>\n",
       "    </tr>\n",
       "    <tr>\n",
       "      <th>3</th>\n",
       "      <td>Electricity, Gas, Steam And Air Conditioning S...</td>\n",
       "      <td>2011</td>\n",
       "      <td>0.4</td>\n",
       "      <td>-4.4</td>\n",
       "      <td></td>\n",
       "      <td>101</td>\n",
       "      <td>45</td>\n",
       "      <td>3229</td>\n",
       "      <td>690</td>\n",
       "      <td>1413</td>\n",
       "      <td>6830</td>\n",
       "      <td>30</td>\n",
       "      <td>12338</td>\n",
       "    </tr>\n",
       "    <tr>\n",
       "      <th>4</th>\n",
       "      <td>Water Supply; Sewerage, Waste Management And R...</td>\n",
       "      <td>2011</td>\n",
       "      <td>0.7</td>\n",
       "      <td>3.0</td>\n",
       "      <td></td>\n",
       "      <td></td>\n",
       "      <td></td>\n",
       "      <td>3036</td>\n",
       "      <td>1983</td>\n",
       "      <td>1970</td>\n",
       "      <td>818</td>\n",
       "      <td>83</td>\n",
       "      <td>7890</td>\n",
       "    </tr>\n",
       "  </tbody>\n",
       "</table>\n",
       "</div>"
      ],
      "text/plain": [
       "                                            Industry  Year  \\\n",
       "0                  Agriculture, Forestry And Fishing  2011   \n",
       "1                               Mining And Quarrying  2011   \n",
       "2                                      Manufacturing  2011   \n",
       "3  Electricity, Gas, Steam And Air Conditioning S...  2011   \n",
       "4  Water Supply; Sewerage, Waste Management And R...  2011   \n",
       "\n",
       "   Contribution_to_Gdp  Growth_of_GDP Wage_bracket_0_to_9999  \\\n",
       "0                 23.8            1.5                  12141   \n",
       "1                  0.7            7.1                     59   \n",
       "2                  9.6            3.4                    632   \n",
       "3                  0.4           -4.4                          \n",
       "4                  0.7            3.0                          \n",
       "\n",
       "  Wage_bracket_10000_to_14999 Wage_bracket_15000_to_19999  \\\n",
       "0                       36238                      111549   \n",
       "1                         101                         944   \n",
       "2                        1723                       17205   \n",
       "3                         101                          45   \n",
       "4                                                           \n",
       "\n",
       "  Wage_bracket_20000_to_24999 Wage_bracket_25000_to_29999  \\\n",
       "0                      100240                       37712   \n",
       "1                        1586                        1965   \n",
       "2                       50949                       54427   \n",
       "3                        3229                         690   \n",
       "4                        3036                        1983   \n",
       "\n",
       "  Wage_bracket_30000_to_49999 Wage_bracket_50000_to_99999  \\\n",
       "0                       23976                       12935   \n",
       "1                        2312                        1752   \n",
       "2                       76329                       70040   \n",
       "3                        1413                        6830   \n",
       "4                        1970                         818   \n",
       "\n",
       "  Wage_bracket_100000_plus   TOTAL  \n",
       "0                     6631  341422  \n",
       "1                       13    8732  \n",
       "2                     5580  276885  \n",
       "3                       30   12338  \n",
       "4                       83    7890  "
      ]
     },
     "execution_count": 31,
     "metadata": {},
     "output_type": "execute_result"
    }
   ],
   "source": [
    "df.head()"
   ]
  },
  {
   "cell_type": "code",
   "execution_count": 35,
   "metadata": {},
   "outputs": [
    {
     "data": {
      "text/html": [
       "<div>\n",
       "<style scoped>\n",
       "    .dataframe tbody tr th:only-of-type {\n",
       "        vertical-align: middle;\n",
       "    }\n",
       "\n",
       "    .dataframe tbody tr th {\n",
       "        vertical-align: top;\n",
       "    }\n",
       "\n",
       "    .dataframe thead th {\n",
       "        text-align: right;\n",
       "    }\n",
       "</style>\n",
       "<table border=\"1\" class=\"dataframe\">\n",
       "  <thead>\n",
       "    <tr style=\"text-align: right;\">\n",
       "      <th></th>\n",
       "      <th>Unnamed: 0</th>\n",
       "      <th>Industry</th>\n",
       "      <th>Contribution_to_Gdp</th>\n",
       "      <th>Growth_of_GDP</th>\n",
       "      <th>Wage_bracket_0_to_9999</th>\n",
       "      <th>Wage_bracket_10000_to_14999</th>\n",
       "      <th>Wage_bracket_15000_to_19999</th>\n",
       "      <th>Wage_bracket_20000_to_24999</th>\n",
       "      <th>Wage_bracket_25000_to_29999</th>\n",
       "      <th>Wage_bracket_30000_to_49999</th>\n",
       "      <th>Wage_bracket_50000_to_99999</th>\n",
       "      <th>Wage_bracket_100000_plus</th>\n",
       "      <th>TOTAL</th>\n",
       "    </tr>\n",
       "    <tr>\n",
       "      <th>Year</th>\n",
       "      <th></th>\n",
       "      <th></th>\n",
       "      <th></th>\n",
       "      <th></th>\n",
       "      <th></th>\n",
       "      <th></th>\n",
       "      <th></th>\n",
       "      <th></th>\n",
       "      <th></th>\n",
       "      <th></th>\n",
       "      <th></th>\n",
       "      <th></th>\n",
       "      <th></th>\n",
       "    </tr>\n",
       "  </thead>\n",
       "  <tbody>\n",
       "    <tr>\n",
       "      <th>2011-01-01</th>\n",
       "      <td>0</td>\n",
       "      <td>Agriculture, Forestry And Fishing</td>\n",
       "      <td>23.8</td>\n",
       "      <td>1.5</td>\n",
       "      <td>12141.0</td>\n",
       "      <td>36238.0</td>\n",
       "      <td>111549.0</td>\n",
       "      <td>100240.0</td>\n",
       "      <td>37712.0</td>\n",
       "      <td>23976.0</td>\n",
       "      <td>12935.0</td>\n",
       "      <td>6631.0</td>\n",
       "      <td>341422.0</td>\n",
       "    </tr>\n",
       "    <tr>\n",
       "      <th>2011-01-01</th>\n",
       "      <td>1</td>\n",
       "      <td>Mining And Quarrying</td>\n",
       "      <td>0.7</td>\n",
       "      <td>7.1</td>\n",
       "      <td>59.0</td>\n",
       "      <td>101.0</td>\n",
       "      <td>944.0</td>\n",
       "      <td>1586.0</td>\n",
       "      <td>1965.0</td>\n",
       "      <td>2312.0</td>\n",
       "      <td>1752.0</td>\n",
       "      <td>13.0</td>\n",
       "      <td>8732.0</td>\n",
       "    </tr>\n",
       "    <tr>\n",
       "      <th>2011-01-01</th>\n",
       "      <td>2</td>\n",
       "      <td>Manufacturing</td>\n",
       "      <td>9.6</td>\n",
       "      <td>3.4</td>\n",
       "      <td>632.0</td>\n",
       "      <td>1723.0</td>\n",
       "      <td>17205.0</td>\n",
       "      <td>50949.0</td>\n",
       "      <td>54427.0</td>\n",
       "      <td>76329.0</td>\n",
       "      <td>70040.0</td>\n",
       "      <td>5580.0</td>\n",
       "      <td>276885.0</td>\n",
       "    </tr>\n",
       "    <tr>\n",
       "      <th>2011-01-01</th>\n",
       "      <td>3</td>\n",
       "      <td>Electricity, Gas, Steam And Air Conditioning S...</td>\n",
       "      <td>0.4</td>\n",
       "      <td>-4.4</td>\n",
       "      <td>NaN</td>\n",
       "      <td>101.0</td>\n",
       "      <td>45.0</td>\n",
       "      <td>3229.0</td>\n",
       "      <td>690.0</td>\n",
       "      <td>1413.0</td>\n",
       "      <td>6830.0</td>\n",
       "      <td>30.0</td>\n",
       "      <td>12338.0</td>\n",
       "    </tr>\n",
       "    <tr>\n",
       "      <th>2011-01-01</th>\n",
       "      <td>4</td>\n",
       "      <td>Water Supply; Sewerage, Waste Management And R...</td>\n",
       "      <td>0.7</td>\n",
       "      <td>3.0</td>\n",
       "      <td>NaN</td>\n",
       "      <td>NaN</td>\n",
       "      <td>NaN</td>\n",
       "      <td>3036.0</td>\n",
       "      <td>1983.0</td>\n",
       "      <td>1970.0</td>\n",
       "      <td>818.0</td>\n",
       "      <td>83.0</td>\n",
       "      <td>7890.0</td>\n",
       "    </tr>\n",
       "    <tr>\n",
       "      <th>...</th>\n",
       "      <td>...</td>\n",
       "      <td>...</td>\n",
       "      <td>...</td>\n",
       "      <td>...</td>\n",
       "      <td>...</td>\n",
       "      <td>...</td>\n",
       "      <td>...</td>\n",
       "      <td>...</td>\n",
       "      <td>...</td>\n",
       "      <td>...</td>\n",
       "      <td>...</td>\n",
       "      <td>...</td>\n",
       "      <td>...</td>\n",
       "    </tr>\n",
       "    <tr>\n",
       "      <th>2018-01-01</th>\n",
       "      <td>163</td>\n",
       "      <td>Human Health And Social Work Activities</td>\n",
       "      <td>1.5</td>\n",
       "      <td>4.5</td>\n",
       "      <td>NaN</td>\n",
       "      <td>960.0</td>\n",
       "      <td>6108.0</td>\n",
       "      <td>17810.0</td>\n",
       "      <td>36788.0</td>\n",
       "      <td>65229.0</td>\n",
       "      <td>17572.0</td>\n",
       "      <td>4287.0</td>\n",
       "      <td>148755.0</td>\n",
       "    </tr>\n",
       "    <tr>\n",
       "      <th>2018-01-01</th>\n",
       "      <td>164</td>\n",
       "      <td>Arts, Entertainment And Recreation</td>\n",
       "      <td>0.1</td>\n",
       "      <td>6.4</td>\n",
       "      <td>NaN</td>\n",
       "      <td>46.0</td>\n",
       "      <td>857.0</td>\n",
       "      <td>1446.0</td>\n",
       "      <td>2277.0</td>\n",
       "      <td>1188.0</td>\n",
       "      <td>878.0</td>\n",
       "      <td>550.0</td>\n",
       "      <td>7243.0</td>\n",
       "    </tr>\n",
       "    <tr>\n",
       "      <th>2018-01-01</th>\n",
       "      <td>165</td>\n",
       "      <td>Other Service Activities</td>\n",
       "      <td>0.6</td>\n",
       "      <td>6.7</td>\n",
       "      <td>NaN</td>\n",
       "      <td>552.0</td>\n",
       "      <td>1735.0</td>\n",
       "      <td>4490.0</td>\n",
       "      <td>11270.0</td>\n",
       "      <td>11251.0</td>\n",
       "      <td>6312.0</td>\n",
       "      <td>722.0</td>\n",
       "      <td>36332.0</td>\n",
       "    </tr>\n",
       "    <tr>\n",
       "      <th>2018-01-01</th>\n",
       "      <td>166</td>\n",
       "      <td>Activities Of Households As Employers; Undiffe...</td>\n",
       "      <td>0.4</td>\n",
       "      <td>1.6</td>\n",
       "      <td>NaN</td>\n",
       "      <td>316.0</td>\n",
       "      <td>911.0</td>\n",
       "      <td>17245.0</td>\n",
       "      <td>15082.0</td>\n",
       "      <td>53200.0</td>\n",
       "      <td>29083.0</td>\n",
       "      <td>NaN</td>\n",
       "      <td>NaN</td>\n",
       "    </tr>\n",
       "    <tr>\n",
       "      <th>2018-01-01</th>\n",
       "      <td>167</td>\n",
       "      <td>Activities Of Extraterritorial Organizations A...</td>\n",
       "      <td>-1.9</td>\n",
       "      <td>1.1</td>\n",
       "      <td>NaN</td>\n",
       "      <td>NaN</td>\n",
       "      <td>NaN</td>\n",
       "      <td>NaN</td>\n",
       "      <td>NaN</td>\n",
       "      <td>NaN</td>\n",
       "      <td>NaN</td>\n",
       "      <td>NaN</td>\n",
       "      <td>115836.0</td>\n",
       "    </tr>\n",
       "  </tbody>\n",
       "</table>\n",
       "<p>168 rows × 13 columns</p>\n",
       "</div>"
      ],
      "text/plain": [
       "            Unnamed: 0                                           Industry  \\\n",
       "Year                                                                        \n",
       "2011-01-01           0                  Agriculture, Forestry And Fishing   \n",
       "2011-01-01           1                               Mining And Quarrying   \n",
       "2011-01-01           2                                      Manufacturing   \n",
       "2011-01-01           3  Electricity, Gas, Steam And Air Conditioning S...   \n",
       "2011-01-01           4  Water Supply; Sewerage, Waste Management And R...   \n",
       "...                ...                                                ...   \n",
       "2018-01-01         163            Human Health And Social Work Activities   \n",
       "2018-01-01         164                 Arts, Entertainment And Recreation   \n",
       "2018-01-01         165                           Other Service Activities   \n",
       "2018-01-01         166  Activities Of Households As Employers; Undiffe...   \n",
       "2018-01-01         167  Activities Of Extraterritorial Organizations A...   \n",
       "\n",
       "            Contribution_to_Gdp  Growth_of_GDP  Wage_bracket_0_to_9999  \\\n",
       "Year                                                                     \n",
       "2011-01-01                 23.8            1.5                 12141.0   \n",
       "2011-01-01                  0.7            7.1                    59.0   \n",
       "2011-01-01                  9.6            3.4                   632.0   \n",
       "2011-01-01                  0.4           -4.4                     NaN   \n",
       "2011-01-01                  0.7            3.0                     NaN   \n",
       "...                         ...            ...                     ...   \n",
       "2018-01-01                  1.5            4.5                     NaN   \n",
       "2018-01-01                  0.1            6.4                     NaN   \n",
       "2018-01-01                  0.6            6.7                     NaN   \n",
       "2018-01-01                  0.4            1.6                     NaN   \n",
       "2018-01-01                 -1.9            1.1                     NaN   \n",
       "\n",
       "            Wage_bracket_10000_to_14999  Wage_bracket_15000_to_19999  \\\n",
       "Year                                                                   \n",
       "2011-01-01                      36238.0                     111549.0   \n",
       "2011-01-01                        101.0                        944.0   \n",
       "2011-01-01                       1723.0                      17205.0   \n",
       "2011-01-01                        101.0                         45.0   \n",
       "2011-01-01                          NaN                          NaN   \n",
       "...                                 ...                          ...   \n",
       "2018-01-01                        960.0                       6108.0   \n",
       "2018-01-01                         46.0                        857.0   \n",
       "2018-01-01                        552.0                       1735.0   \n",
       "2018-01-01                        316.0                        911.0   \n",
       "2018-01-01                          NaN                          NaN   \n",
       "\n",
       "            Wage_bracket_20000_to_24999  Wage_bracket_25000_to_29999  \\\n",
       "Year                                                                   \n",
       "2011-01-01                     100240.0                      37712.0   \n",
       "2011-01-01                       1586.0                       1965.0   \n",
       "2011-01-01                      50949.0                      54427.0   \n",
       "2011-01-01                       3229.0                        690.0   \n",
       "2011-01-01                       3036.0                       1983.0   \n",
       "...                                 ...                          ...   \n",
       "2018-01-01                      17810.0                      36788.0   \n",
       "2018-01-01                       1446.0                       2277.0   \n",
       "2018-01-01                       4490.0                      11270.0   \n",
       "2018-01-01                      17245.0                      15082.0   \n",
       "2018-01-01                          NaN                          NaN   \n",
       "\n",
       "            Wage_bracket_30000_to_49999  Wage_bracket_50000_to_99999  \\\n",
       "Year                                                                   \n",
       "2011-01-01                      23976.0                      12935.0   \n",
       "2011-01-01                       2312.0                       1752.0   \n",
       "2011-01-01                      76329.0                      70040.0   \n",
       "2011-01-01                       1413.0                       6830.0   \n",
       "2011-01-01                       1970.0                        818.0   \n",
       "...                                 ...                          ...   \n",
       "2018-01-01                      65229.0                      17572.0   \n",
       "2018-01-01                       1188.0                        878.0   \n",
       "2018-01-01                      11251.0                       6312.0   \n",
       "2018-01-01                      53200.0                      29083.0   \n",
       "2018-01-01                          NaN                          NaN   \n",
       "\n",
       "            Wage_bracket_100000_plus     TOTAL  \n",
       "Year                                            \n",
       "2011-01-01                    6631.0  341422.0  \n",
       "2011-01-01                      13.0    8732.0  \n",
       "2011-01-01                    5580.0  276885.0  \n",
       "2011-01-01                      30.0   12338.0  \n",
       "2011-01-01                      83.0    7890.0  \n",
       "...                              ...       ...  \n",
       "2018-01-01                    4287.0  148755.0  \n",
       "2018-01-01                     550.0    7243.0  \n",
       "2018-01-01                     722.0   36332.0  \n",
       "2018-01-01                       NaN       NaN  \n",
       "2018-01-01                       NaN  115836.0  \n",
       "\n",
       "[168 rows x 13 columns]"
      ]
     },
     "execution_count": 35,
     "metadata": {},
     "output_type": "execute_result"
    }
   ],
   "source": [
    "pathDataset = \"D:/Hackathon/Hackathon (16) - Python Project/Hackathon (16) - Python Project/CSV FILES/Wage_Employment_and_GDP_2011_to_2018_Final.csv\"\n",
    "df = pd.read_csv(pathDataset,parse_dates=[\"Year\"],index_col=[\"Year\"],na_values=[\"nan\",\"?\",\"-\"])\n",
    "df"
   ]
  },
  {
   "cell_type": "code",
   "execution_count": 36,
   "metadata": {},
   "outputs": [
    {
     "name": "stdout",
     "output_type": "stream",
     "text": [
      "<class 'pandas.core.frame.DataFrame'>\n",
      "DatetimeIndex: 168 entries, 2011-01-01 to 2018-01-01\n",
      "Data columns (total 13 columns):\n",
      " #   Column                       Non-Null Count  Dtype  \n",
      "---  ------                       --------------  -----  \n",
      " 0   Unnamed: 0                   168 non-null    int64  \n",
      " 1   Industry                     168 non-null    object \n",
      " 2   Contribution_to_Gdp          166 non-null    float64\n",
      " 3   Growth_of_GDP                161 non-null    float64\n",
      " 4   Wage_bracket_0_to_9999       96 non-null     float64\n",
      " 5   Wage_bracket_10000_to_14999  144 non-null    float64\n",
      " 6   Wage_bracket_15000_to_19999  152 non-null    float64\n",
      " 7   Wage_bracket_20000_to_24999  167 non-null    float64\n",
      " 8   Wage_bracket_25000_to_29999  167 non-null    float64\n",
      " 9   Wage_bracket_30000_to_49999  167 non-null    float64\n",
      " 10  Wage_bracket_50000_to_99999  167 non-null    float64\n",
      " 11  Wage_bracket_100000_plus     154 non-null    float64\n",
      " 12  TOTAL                        167 non-null    float64\n",
      "dtypes: float64(11), int64(1), object(1)\n",
      "memory usage: 18.4+ KB\n"
     ]
    }
   ],
   "source": [
    "df.info()"
   ]
  },
  {
   "cell_type": "code",
   "execution_count": 38,
   "metadata": {},
   "outputs": [
    {
     "data": {
      "text/plain": [
       "Unnamed: 0                       int64\n",
       "Industry                        object\n",
       "Contribution_to_Gdp            float64\n",
       "Growth_of_GDP                  float64\n",
       "Wage_bracket_0_to_9999         float64\n",
       "Wage_bracket_10000_to_14999    float64\n",
       "Wage_bracket_15000_to_19999    float64\n",
       "Wage_bracket_20000_to_24999    float64\n",
       "Wage_bracket_25000_to_29999    float64\n",
       "Wage_bracket_30000_to_49999    float64\n",
       "Wage_bracket_50000_to_99999    float64\n",
       "Wage_bracket_100000_plus       float64\n",
       "TOTAL                          float64\n",
       "dtype: object"
      ]
     },
     "execution_count": 38,
     "metadata": {},
     "output_type": "execute_result"
    }
   ],
   "source": [
    "df.dtypes"
   ]
  },
  {
   "cell_type": "code",
   "execution_count": 39,
   "metadata": {},
   "outputs": [
    {
     "data": {
      "text/plain": [
       "(168, 13)"
      ]
     },
     "execution_count": 39,
     "metadata": {},
     "output_type": "execute_result"
    }
   ],
   "source": [
    "df.shape"
   ]
  },
  {
   "cell_type": "code",
   "execution_count": 40,
   "metadata": {},
   "outputs": [
    {
     "data": {
      "text/plain": [
       "Index(['Unnamed: 0', 'Industry', 'Contribution_to_Gdp', 'Growth_of_GDP',\n",
       "       'Wage_bracket_0_to_9999', 'Wage_bracket_10000_to_14999',\n",
       "       'Wage_bracket_15000_to_19999', 'Wage_bracket_20000_to_24999',\n",
       "       'Wage_bracket_25000_to_29999', 'Wage_bracket_30000_to_49999',\n",
       "       'Wage_bracket_50000_to_99999', 'Wage_bracket_100000_plus', 'TOTAL'],\n",
       "      dtype='object')"
      ]
     },
     "execution_count": 40,
     "metadata": {},
     "output_type": "execute_result"
    }
   ],
   "source": [
    "df.columns"
   ]
  },
  {
   "cell_type": "markdown",
   "metadata": {},
   "source": [
    "### Dealing with nan values -- filling nan with mean in the columns"
   ]
  },
  {
   "cell_type": "code",
   "execution_count": 52,
   "metadata": {},
   "outputs": [
    {
     "data": {
      "text/plain": [
       "[]"
      ]
     },
     "execution_count": 52,
     "metadata": {},
     "output_type": "execute_result"
    }
   ],
   "source": [
    "#finding all columns that have nan values\n",
    "nan_list = []\n",
    "for j in range(2,13):\n",
    "    if not df.iloc[:,j].notnull().all():\n",
    "        nan_list.append(j)\n",
    "nan_list"
   ]
  },
  {
   "cell_type": "code",
   "execution_count": 50,
   "metadata": {},
   "outputs": [],
   "source": [
    "cols = ['Contribution_to_Gdp', 'Growth_of_GDP',\n",
    "       'Wage_bracket_0_to_9999', 'Wage_bracket_10000_to_14999',\n",
    "       'Wage_bracket_15000_to_19999', 'Wage_bracket_20000_to_24999',\n",
    "       'Wage_bracket_25000_to_29999', 'Wage_bracket_30000_to_49999',\n",
    "       'Wage_bracket_50000_to_99999', 'Wage_bracket_100000_plus', 'TOTAL']\n",
    "    \n",
    "for i in cols:\n",
    "    df[i] = df[i].fillna(df[i].mean())\n",
    "\n"
   ]
  },
  {
   "cell_type": "code",
   "execution_count": 53,
   "metadata": {},
   "outputs": [
    {
     "data": {
      "text/plain": [
       "Unnamed: 0                     0\n",
       "Industry                       0\n",
       "Contribution_to_Gdp            0\n",
       "Growth_of_GDP                  0\n",
       "Wage_bracket_0_to_9999         0\n",
       "Wage_bracket_10000_to_14999    0\n",
       "Wage_bracket_15000_to_19999    0\n",
       "Wage_bracket_20000_to_24999    0\n",
       "Wage_bracket_25000_to_29999    0\n",
       "Wage_bracket_30000_to_49999    0\n",
       "Wage_bracket_50000_to_99999    0\n",
       "Wage_bracket_100000_plus       0\n",
       "TOTAL                          0\n",
       "dtype: int64"
      ]
     },
     "execution_count": 53,
     "metadata": {},
     "output_type": "execute_result"
    }
   ],
   "source": [
    "df.isnull().sum()"
   ]
  },
  {
   "cell_type": "code",
   "execution_count": null,
   "metadata": {},
   "outputs": [],
   "source": []
  }
 ],
 "metadata": {
  "kernelspec": {
   "display_name": "Python 3 (ipykernel)",
   "language": "python",
   "name": "python3"
  },
  "language_info": {
   "codemirror_mode": {
    "name": "ipython",
    "version": 3
   },
   "file_extension": ".py",
   "mimetype": "text/x-python",
   "name": "python",
   "nbconvert_exporter": "python",
   "pygments_lexer": "ipython3",
   "version": "3.12.0"
  }
 },
 "nbformat": 4,
 "nbformat_minor": 4
}
